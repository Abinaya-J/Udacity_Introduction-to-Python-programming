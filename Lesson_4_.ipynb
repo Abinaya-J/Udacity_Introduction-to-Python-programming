{
  "nbformat": 4,
  "nbformat_minor": 0,
  "metadata": {
    "colab": {
      "name": "Lesson 4 .ipynb",
      "provenance": [],
      "authorship_tag": "ABX9TyNfaBfLAa2qztK9mrTyzsBQ",
      "include_colab_link": true
    },
    "kernelspec": {
      "name": "python3",
      "display_name": "Python 3"
    }
  },
  "cells": [
    {
      "cell_type": "markdown",
      "metadata": {
        "id": "view-in-github",
        "colab_type": "text"
      },
      "source": [
        "<a href=\"https://colab.research.google.com/github/Abinaya-J/Udacity_Introduction-to-Python-programming/blob/main/Lesson_4_.ipynb\" target=\"_parent\"><img src=\"https://colab.research.google.com/assets/colab-badge.svg\" alt=\"Open In Colab\"/></a>"
      ]
    },
    {
      "cell_type": "code",
      "metadata": {
        "id": "4UZe9Lc2XccU"
      },
      "source": [
        "#Practice: Factorials with While Loops\n",
        "\n",
        "# number to find the factorial of\n",
        "number = 6   \n",
        "\n",
        "# start with our product equal to one\n",
        "product = 1\n",
        "\n",
        "# track the current number being multiplied\n",
        "current = 1\n",
        "\n",
        "# write your while loop here\n",
        "while current <= number:\n",
        "    # multiply the product so far by the current number\n",
        "    product*=current\n",
        "    \n",
        "    # increment current with each iteration until it reaches number\n",
        "    current +=1\n",
        "\n",
        "\n",
        "# print the factorial of number\n",
        "print(product)"
      ],
      "execution_count": null,
      "outputs": []
    },
    {
      "cell_type": "code",
      "metadata": {
        "id": "c-0mokVFj51F"
      },
      "source": [
        "#Practice: Factorials with For Loops\n",
        "\n",
        "# number to find the factorial of\n",
        "number = 6   \n",
        "\n",
        "# start with our product equal to one\n",
        "product = 1\n",
        "\n",
        "# write your for loop here\n",
        "for num in range(2, number + 1):\n",
        "    product *= num\n",
        "\n",
        "\n",
        "# print the factorial of number\n",
        "print(product)"
      ],
      "execution_count": null,
      "outputs": []
    }
  ]
}