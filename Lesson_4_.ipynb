{
  "nbformat": 4,
  "nbformat_minor": 0,
  "metadata": {
    "colab": {
      "name": "Lesson 4 .ipynb",
      "provenance": [],
      "authorship_tag": "ABX9TyN127wkSMdiNOF0eajTlS8f",
      "include_colab_link": true
    },
    "kernelspec": {
      "name": "python3",
      "display_name": "Python 3"
    }
  },
  "cells": [
    {
      "cell_type": "markdown",
      "metadata": {
        "id": "view-in-github",
        "colab_type": "text"
      },
      "source": [
        "<a href=\"https://colab.research.google.com/github/Abinaya-J/Udacity_Introduction-to-Python-programming/blob/main/Lesson_4_.ipynb\" target=\"_parent\"><img src=\"https://colab.research.google.com/assets/colab-badge.svg\" alt=\"Open In Colab\"/></a>"
      ]
    },
    {
      "cell_type": "code",
      "metadata": {
        "id": "4UZe9Lc2XccU"
      },
      "source": [
        "#Practice: Factorials with While Loops\n",
        "\n",
        "# number to find the factorial of\n",
        "number = 6   \n",
        "\n",
        "# start with our product equal to one\n",
        "product = 1\n",
        "\n",
        "# track the current number being multiplied\n",
        "current = 1\n",
        "\n",
        "# write your while loop here\n",
        "while current <= number:\n",
        "    # multiply the product so far by the current number\n",
        "    product*=current\n",
        "    \n",
        "    # increment current with each iteration until it reaches number\n",
        "    current +=1\n",
        "\n",
        "\n",
        "# print the factorial of number\n",
        "print(product)"
      ],
      "execution_count": null,
      "outputs": []
    },
    {
      "cell_type": "code",
      "metadata": {
        "id": "c-0mokVFj51F"
      },
      "source": [
        "#Practice: Factorials with For Loops\n",
        "\n",
        "# number to find the factorial of\n",
        "number = 6   \n",
        "\n",
        "# start with our product equal to one\n",
        "product = 1\n",
        "\n",
        "# write your for loop here\n",
        "for num in range(2, number + 1):\n",
        "    product *= num\n",
        "\n",
        "\n",
        "# print the factorial of number\n",
        "print(product)"
      ],
      "execution_count": null,
      "outputs": []
    },
    {
      "cell_type": "code",
      "metadata": {
        "id": "Z1oKjV6VkGjd"
      },
      "source": [
        "#Quiz: While Loops\n",
        "\n",
        "#Quiz: Count By\n",
        "\n",
        "#Suppose you want to count from some number start_num by another number count_by until you hit a final number end_num. Use break_num as the variable that you'll change each time through the loop.\n",
        "#For simplicity, assume that end_num is always larger than start_num and count_by is always positive.\n",
        "\n",
        "start_num = 2\n",
        "end_num = 16\n",
        "count_by = 3 \n",
        "\n",
        "\n",
        "# write a while loop that uses break_num as the ongoing number to \n",
        "#   check against end_num\n",
        "break_num = start_num\n",
        "while break_num < end_num:\n",
        "    break_num += count_by\n",
        "\n",
        "print(break_num)"
      ],
      "execution_count": null,
      "outputs": []
    },
    {
      "cell_type": "code",
      "metadata": {
        "id": "249rLplZ0chT"
      },
      "source": [
        "#Quiz: Count By Check\n",
        "\n",
        "start_num = 6\n",
        "end_num = 36\n",
        "count_by = 4 \n",
        "\n",
        "# write a condition to check that end_num is larger than start_num before looping\n",
        "# write a while loop that uses break_num as the ongoing number to \n",
        "#   check against end_num\n",
        "if start_num > end_num:\n",
        "    result = \"Oops! Looks like your start value is greater than the end value. Please try again.\"\n",
        "else:\n",
        "    break_num = start_num\n",
        "    while break_num <= end_num:\n",
        "        break_num += count_by\n",
        "        \n",
        "result = break_num\n",
        "print(result)"
      ],
      "execution_count": null,
      "outputs": []
    },
    {
      "cell_type": "code",
      "metadata": {
        "id": "vQKw25Qv0pAR"
      },
      "source": [
        "#Quiz: Nearest Square\n",
        "\n",
        "limit = 40\n",
        "\n",
        "# write your while loop here\n",
        "num = 0\n",
        "while (num+1)**2 < limit:\n",
        "    num += 1\n",
        "nearest_square = num**2\n",
        "\n",
        "print(nearest_square)"
      ],
      "execution_count": null,
      "outputs": []
    },
    {
      "cell_type": "code",
      "metadata": {
        "id": "u9glXncXwj08"
      },
      "source": [
        "#Quiz: Break the String\n",
        "\n",
        "#Write a loop with a break statement to create a string, news_ticker, that is exactly 140 characters long. \n",
        "#You should create the news ticker by adding headlines from the headlines list, inserting a space in between each headline. If necessary, truncate the last headline in the middle so that news_ticker is exactly 140 characters long.\n",
        "\n",
        "\n",
        "# HINT: modify the headlines list to verify your loop works with different inputs\n",
        "headlines = [\"Local Bear Eaten by Man\",\n",
        "             \"Legislature Announces New Laws\",\n",
        "             \"Peasant Discovers Violence Inherent in System\",\n",
        "             \"Cat Rescues Fireman Stuck in Tree\",\n",
        "             \"Brave Knight Runs Away\",\n",
        "             \"Papperbok Review: Totally Triffic\"]\n",
        "\n",
        "news_ticker = \"\"\n",
        "# write your loop here\n",
        "for headline in headlines:\n",
        "    news_ticker += headline + \" \"\n",
        "    if len(news_ticker) >= 140:\n",
        "        news_ticker = news_ticker[:140]\n",
        "        break\n",
        "print(news_ticker)\n"
      ],
      "execution_count": null,
      "outputs": []
    },
    {
      "cell_type": "code",
      "metadata": {
        "id": "HbxmlJX1wzYM"
      },
      "source": [
        ""
      ],
      "execution_count": null,
      "outputs": []
    }
  ]
}