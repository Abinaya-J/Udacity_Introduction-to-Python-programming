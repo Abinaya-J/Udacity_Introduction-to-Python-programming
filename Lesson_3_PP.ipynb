{
  "nbformat": 4,
  "nbformat_minor": 0,
  "metadata": {
    "colab": {
      "name": "Lesson 3 PP.ipynb",
      "provenance": [],
      "authorship_tag": "ABX9TyOsi9J3rI+nZV8azzlsWjCR",
      "include_colab_link": true
    },
    "kernelspec": {
      "name": "python3",
      "display_name": "Python 3"
    }
  },
  "cells": [
    {
      "cell_type": "markdown",
      "metadata": {
        "id": "view-in-github",
        "colab_type": "text"
      },
      "source": [
        "<a href=\"https://colab.research.google.com/github/Abinaya-J/Udacity_Introduction-to-Python-programming/blob/main/Lesson_3_PP.ipynb\" target=\"_parent\"><img src=\"https://colab.research.google.com/assets/colab-badge.svg\" alt=\"Open In Colab\"/></a>"
      ]
    },
    {
      "cell_type": "code",
      "metadata": {
        "id": "vNfmdEiPptnp"
      },
      "source": [
        "#Quiz: Lists and Membership Operators\n",
        "\n",
        "#Quiz: List Indexing\n",
        "Use list indexing to determine how many days are in a particular month based on the integer variable month, and store that value in the integer variable num_days. \n",
        "For example, if month is 8, num_days should be set to 31, since the eighth month, August, has 31 days.\n",
        "\n",
        "Remember to account for zero-based indexing!\n",
        "\n",
        "month = 8\n",
        "days_in_month = [31,28,31,30,31,30,31,31,30,31,30,31]\n",
        "\n",
        "# use list indexing to determine the number of days in month\n",
        "num_days = days_in_month[month - 1]\n",
        "print(num_days)\n",
        "\n",
        "#Quiz: Slicing Lists\n",
        "Select the three most recent dates from this list using list slicing notation. Hint: negative indexes work in slices!\n",
        "\n",
        "eclipse_dates = ['June 21, 2001', 'December 4, 2002', 'November 23, 2003',\n",
        "                 'March 29, 2006', 'August 1, 2008', 'July 22, 2009',\n",
        "                 'July 11, 2010', 'November 13, 2012', 'March 20, 2015',\n",
        "                 'March 9, 2016']\n",
        "                 \n",
        "                 \n",
        "# TODO: Modify this line so it prints the last three elements of the list\n",
        "print(eclipse_dates[7:])"
      ],
      "execution_count": null,
      "outputs": []
    },
    {
      "cell_type": "code",
      "metadata": {
        "id": "oUaob4C2FrP3"
      },
      "source": [
        "#Quiz: Dictionaries and Identity Operators\n",
        "\n",
        "# Define a Dictionary, population,\n",
        "# that provides information\n",
        "# on the world's largest cities.\n",
        "# The key is the name of a city\n",
        "# (a string), and the associated\n",
        "# value is its population in\n",
        "# millions of people.\n",
        "\n",
        "#   Key     |   Value\n",
        "# Shanghai  |   17.8\n",
        "# Istanbul  |   13.3\n",
        "# Karachi   |   13.0\n",
        "# Mumbai    |   12.5\n",
        "population = {'Shanghai' : 17.8 , 'Istanbul' : 13.3 , 'Karachi' : 13.0 , 'Mumbai' : 12.5 }"
      ],
      "execution_count": null,
      "outputs": []
    },
    {
      "cell_type": "code",
      "metadata": {
        "id": "XsmZV0Q9GK-j"
      },
      "source": [
        "#Quiz: Compound Data Structures\n",
        "\n",
        "Quiz: Adding Values to Nested Dictionaries\n",
        "Try your hand at working with nested dictionaries. Add another entry, 'is_noble_gas,' to each dictionary in the elements dictionary. After inserting the new entries you should be able to perform these lookups:\n",
        ">>> print(elements['hydrogen']['is_noble_gas'])\n",
        "False\n",
        ">>> print(elements['helium']['is_noble_gas'])\n",
        "True\n",
        "\n",
        "elements = {'hydrogen': {'number': 1, 'weight': 1.00794, 'symbol': 'H'},\n",
        "            'helium': {'number': 2, 'weight': 4.002602, 'symbol': 'He'}}\n",
        "\n",
        "# todo: Add an 'is_noble_gas' entry to the hydrogen and helium dictionaries\n",
        "# hint: helium is a noble gas, hydrogen isn't\n",
        "elements['hydrogen']['is_noble_gas'] = False\n",
        "elements['helium']['is_noble_gas']= True\n",
        "print(elements['hydrogen']['is_noble_gas'])\n",
        "print(elements['helium']['is_noble_gas'])"
      ],
      "execution_count": null,
      "outputs": []
    },
    {
      "cell_type": "code",
      "metadata": {
        "id": "DsMpWww0f2e2"
      },
      "source": [
        "#Practice Questions\n",
        "\n",
        "#Quiz: Count Unique Words\n",
        "\n",
        "verse = \"if you can keep your head when all about you are losing theirs and blaming it on you   if you can trust yourself when all men doubt you     but make allowance for their doubting too   if you can wait and not be tired by waiting      or being lied about  don’t deal in lies   or being hated  don’t give way to hating      and yet don’t look too good  nor talk too wise\"\n",
        "print(verse, '\\n')\n",
        "\n",
        "# split verse into list of words\n",
        "verse_list = verse.split()\n",
        "print(verse_list, '\\n')\n",
        "\n",
        "# convert list to a data structure that stores unique elements\n",
        "verse_set = set(verse_list)\n",
        "print(verse_set, '\\n')\n",
        "\n",
        "# print the number of unique words\n",
        "num_unique = len(verse_set)\n",
        "print(num_unique, '\\n')\n"
      ],
      "execution_count": null,
      "outputs": []
    }
  ]
}