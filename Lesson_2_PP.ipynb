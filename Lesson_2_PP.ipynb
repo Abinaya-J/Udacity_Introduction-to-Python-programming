{
  "nbformat": 4,
  "nbformat_minor": 0,
  "metadata": {
    "colab": {
      "name": "Lesson 2_PP.ipynb",
      "provenance": [],
      "authorship_tag": "ABX9TyMc9jGK4qgsDl5sqHaFDIS6",
      "include_colab_link": true
    },
    "kernelspec": {
      "name": "python3",
      "display_name": "Python 3"
    }
  },
  "cells": [
    {
      "cell_type": "markdown",
      "metadata": {
        "id": "view-in-github",
        "colab_type": "text"
      },
      "source": [
        "<a href=\"https://colab.research.google.com/github/Abinaya-J/Udacity_Introduction-to-Python-programming/blob/main/Lesson_2_PP.ipynb\" target=\"_parent\"><img src=\"https://colab.research.google.com/assets/colab-badge.svg\" alt=\"Open In Colab\"/></a>"
      ]
    },
    {
      "cell_type": "code",
      "metadata": {
        "id": "VNSbxhHPlSos"
      },
      "source": [
        "#Quiz: Average Electricity Bill\n",
        "\n",
        "# Write an expression that calculates the average of 23, 32 and 64\n",
        "# Place the expression in this print statement\n",
        "print((23+32+64)/3)"
      ],
      "execution_count": null,
      "outputs": []
    },
    {
      "cell_type": "code",
      "metadata": {
        "id": "XcATj7xkleRX"
      },
      "source": [
        "#Quiz: Calculate\n",
        "\n",
        "In this quiz you're going to do some calculations for a tiler. Two parts of a floor need tiling. One part is 9 tiles wide by 7 tiles long, the other is 5 tiles wide by 7 tiles long. Tiles come in packages of 6.\n",
        "\n",
        "How many tiles are needed?\n",
        "You buy 17 packages of tiles containing 6 tiles each. How many tiles will be left over?\n",
        "\n",
        "# Fill this in with an expression that calculates how many tiles are needed.\n",
        "print(63+35)\n",
        "\n",
        "# Fill this in with an expression that calculates how many tiles will be left over.\n",
        "print((17*6)%(63+35))"
      ],
      "execution_count": null,
      "outputs": []
    },
    {
      "cell_type": "code",
      "metadata": {
        "id": "R6MvkVlylve7"
      },
      "source": [
        "#Quiz: Assign and Modify Variables\n",
        "\n",
        "Now it's your turn to work with variables. The comments in this quiz (the lines that begin with #) have instructions for creating and modifying variables. After each comment write a line of code that implements the instruction.\n",
        "\n",
        "Note that this code uses scientific notation to define large numbers. 4.445e8 is equal to 4.445 * 10 ** 8 which is equal to 444500000.0.\n",
        "\n",
        "# The current volume of a water reservoir (in cubic metres)\n",
        "reservoir_volume = 4.445e8\n",
        "# The amount of rainfall from a storm (in cubic metres)\n",
        "rainfall = 5e6\n",
        "\n",
        "# decrease the rainfall variable by 10% to account for runoff\n",
        "rainfall-= rainfall*0.10\n",
        "# add the rainfall variable to the reservoir_volume variable\n",
        "reservoir_volume+=rainfall\n",
        "# increase reservoir_volume by 5% to account for stormwater that flows\n",
        "# into the reservoir in the days following the storm\n",
        "reservoir_volume*=1.05\n",
        "# decrease reservoir_volume by 5% to account for evaporation\n",
        "reservoir_volume*=0.95\n",
        "# subtract 2.5e5 cubic metres from reservoir_volume to account for water\n",
        "# that's piped to arid regions.\n",
        "reservoir_volume-=2.5e5\n",
        "# print the new value of the reservoir_volume variable\n",
        "print(reservoir_volume)"
      ],
      "execution_count": null,
      "outputs": []
    },
    {
      "cell_type": "code",
      "metadata": {
        "id": "Xf75n1nYDERG"
      },
      "source": [
        "#Quiz: Booleans, Comparison Operators, and Logical Operators\n",
        "\n",
        "Write code to compare these densities. Is the population of San Francisco more dense than that of Rio de Janeiro? Print True if it is and False if not.\n",
        "\n",
        "sf_population, sf_area = 864816, 231.89\n",
        "rio_population, rio_area = 6453682, 486.5\n",
        "\n",
        "san_francisco_pop_density = sf_population/sf_area\n",
        "rio_de_janeiro_pop_density = rio_population/rio_area\n",
        "\n",
        "# Write code that prints True if San Francisco is denser than Rio, and False otherwise\n",
        "is_density = san_francisco_pop_density > rio_de_janeiro_pop_density\n",
        "print(is_density)"
      ],
      "execution_count": null,
      "outputs": []
    },
    {
      "cell_type": "code",
      "metadata": {
        "id": "VTso8PG_DSWS"
      },
      "source": [
        "#Quiz: Type and Type Conversion\n",
        "\n",
        "In this quiz, you’ll need to change the types of the input and output data in order to get the result you want.\n",
        "\n",
        "Calculate and print the total sales for the week from the data provided. Print out a string of the form \"This week's total sales: xxx\", where xxx will be the actual total of all the numbers. \n",
        "You’ll need to change the type of the input data in order to calculate that total.\n",
        "\n",
        "mon_sales = \"121\"\n",
        "tues_sales = \"105\"\n",
        "wed_sales = \"110\"\n",
        "thurs_sales = \"98\"\n",
        "fri_sales = \"95\"\n",
        "\n",
        "#TODO: Print a string with this format: This week's total sales: xxx\n",
        "# You will probably need to write some lines of code before the print statement.\n",
        "total_sales = int(mon_sales)+int(tues_sales)+int(wed_sales)+int(thurs_sales)+int(fri_sales)\n",
        "total_sales = str(total_sales)\n",
        "print(\"This week's total sales:\" + \" \" + total_sales)\n"
      ],
      "execution_count": null,
      "outputs": []
    },
    {
      "cell_type": "code",
      "metadata": {
        "id": "tJaXWuaYEUge"
      },
      "source": [
        "#Quiz: String Methods Practice\n",
        "\n",
        "Use the code editor below to answer the following questions about verse and use Test Run to check your output in the quiz at the bottom of this page.\n",
        "\n",
        "What is the length of the string variable verse?\n",
        "What is the index of the first occurrence of the word 'and' in verse?\n",
        "What is the index of the last occurrence of the word 'you' in verse?\n",
        "What is the count of occurrences of the word 'you' in the verse?\n",
        "\n",
        "verse = \"If you can keep your head when all about you\\n  Are losing theirs and blaming it on you,\\nIf you can trust yourself when all men doubt you,\\n  But make allowance for their doubting too;\\nIf you can wait and not be tired by waiting,\\n  Or being lied about, don’t deal in lies,\\nOr being hated, don’t give way to hating,\\n  And yet don’t look too good, nor talk too wise:\"\n",
        "print(verse)\n",
        "print(len(verse))\n",
        "print(verse.find('and'))\n",
        "print(verse.rfind('you'))\n",
        "print(verse.count('you'))"
      ],
      "execution_count": null,
      "outputs": []
    }
  ]
}