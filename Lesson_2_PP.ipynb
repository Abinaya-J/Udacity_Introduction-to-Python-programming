{
  "nbformat": 4,
  "nbformat_minor": 0,
  "metadata": {
    "colab": {
      "name": "Lesson 2_PP.ipynb",
      "provenance": []
    },
    "kernelspec": {
      "name": "python3",
      "display_name": "Python 3"
    }
  },
  "cells": [
    {
      "cell_type": "code",
      "metadata": {
        "id": "VNSbxhHPlSos"
      },
      "source": [
        "#Quiz: Average Electricity Bill\n",
        "\n",
        "# Write an expression that calculates the average of 23, 32 and 64\n",
        "# Place the expression in this print statement\n",
        "print((23+32+64)/3)"
      ],
      "execution_count": null,
      "outputs": []
    },
    {
      "cell_type": "code",
      "metadata": {
        "id": "XcATj7xkleRX"
      },
      "source": [
        "#Quiz: Calculate\n",
        "\n",
        "In this quiz you're going to do some calculations for a tiler. Two parts of a floor need tiling. One part is 9 tiles wide by 7 tiles long, the other is 5 tiles wide by 7 tiles long. Tiles come in packages of 6.\n",
        "\n",
        "How many tiles are needed?\n",
        "You buy 17 packages of tiles containing 6 tiles each. How many tiles will be left over?\n",
        "\n",
        "# Fill this in with an expression that calculates how many tiles are needed.\n",
        "print(63+35)\n",
        "\n",
        "# Fill this in with an expression that calculates how many tiles will be left over.\n",
        "print((17*6)%(63+35))"
      ],
      "execution_count": null,
      "outputs": []
    },
    {
      "cell_type": "code",
      "metadata": {
        "id": "R6MvkVlylve7"
      },
      "source": [
        "#Quiz: Assign and Modify Variables\n",
        "\n",
        "Now it's your turn to work with variables. The comments in this quiz (the lines that begin with #) have instructions for creating and modifying variables. After each comment write a line of code that implements the instruction.\n",
        "\n",
        "Note that this code uses scientific notation to define large numbers. 4.445e8 is equal to 4.445 * 10 ** 8 which is equal to 444500000.0.\n",
        "\n",
        "# The current volume of a water reservoir (in cubic metres)\n",
        "reservoir_volume = 4.445e8\n",
        "# The amount of rainfall from a storm (in cubic metres)\n",
        "rainfall = 5e6\n",
        "\n",
        "# decrease the rainfall variable by 10% to account for runoff\n",
        "rainfall-= rainfall*0.10\n",
        "# add the rainfall variable to the reservoir_volume variable\n",
        "reservoir_volume+=rainfall\n",
        "# increase reservoir_volume by 5% to account for stormwater that flows\n",
        "# into the reservoir in the days following the storm\n",
        "reservoir_volume*=1.05\n",
        "# decrease reservoir_volume by 5% to account for evaporation\n",
        "reservoir_volume*=0.95\n",
        "# subtract 2.5e5 cubic metres from reservoir_volume to account for water\n",
        "# that's piped to arid regions.\n",
        "reservoir_volume-=2.5e5\n",
        "# print the new value of the reservoir_volume variable\n",
        "print(reservoir_volume)"
      ],
      "execution_count": null,
      "outputs": []
    }
  ]
}