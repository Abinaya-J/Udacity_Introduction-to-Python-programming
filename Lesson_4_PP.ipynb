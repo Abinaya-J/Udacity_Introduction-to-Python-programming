{
  "nbformat": 4,
  "nbformat_minor": 0,
  "metadata": {
    "colab": {
      "name": "Lesson 4 PP.ipynb",
      "provenance": [],
      "authorship_tag": "ABX9TyOos88c73K54ooeaBC7mhms",
      "include_colab_link": true
    },
    "kernelspec": {
      "name": "python3",
      "display_name": "Python 3"
    }
  },
  "cells": [
    {
      "cell_type": "markdown",
      "metadata": {
        "id": "view-in-github",
        "colab_type": "text"
      },
      "source": [
        "<a href=\"https://colab.research.google.com/github/Abinaya-J/Udacity_Introduction-to-Python-programming/blob/main/Lesson_4_PP.ipynb\" target=\"_parent\"><img src=\"https://colab.research.google.com/assets/colab-badge.svg\" alt=\"Open In Colab\"/></a>"
      ]
    },
    {
      "cell_type": "code",
      "metadata": {
        "id": "bdN3hvOK-1Fx"
      },
      "source": [
        "#Practice: Conditional Statements\n",
        "\n",
        "#Practice: Which Prize\n",
        "\n",
        "Write an if statement that lets a competitor know which of these prizes they won based on the number of points they scored, which is stored in the integer variable points.\n",
        "\n",
        "Points\tPrize\n",
        "1 - 50\twooden rabbit\n",
        "51 - 150\tno prize\n",
        "151 - 180\twafer-thin mint\n",
        "181 - 200\tpenguin\n",
        "All of the lower and upper bounds here are inclusive, and points can only take on positive integer values up to 200.\n",
        "\n",
        "In your if statement, assign the result variable to a string holding the appropriate message based on the value of points. \n",
        "If they've won a prize, the message should state \"Congratulations! You won a [prize name]!\" with the prize name. If there's no prize, the message should state \"Oh dear, no prize this time.\"\n",
        "Note: Feel free to test run your code with other inputs, but when you submit your answer, only use the original input of points = 174. You can hide your other inputs by commenting them out.\n",
        "\n",
        "points = 174  # use this input to make your submission\n",
        "\n",
        "# write your if statement here\n",
        "\n",
        "points = 174\n",
        "\n",
        "if points <= 50:\n",
        "    result = \"Congratulations! You won a wooden rabbit!\"\n",
        "elif points <= 150:\n",
        "    result = \"Oh dear,no prize this time.\"\n",
        "elif points <= 180:\n",
        "    result = \"Congratulations! You won a wafer-thin mint!\"\n",
        "elif points <= 200:\n",
        "    result = \"Congratulations! You won a penguin!\"\n",
        "\n",
        "print(result)\n"
      ],
      "execution_count": null,
      "outputs": []
    },
    {
      "cell_type": "code",
      "metadata": {
        "id": "ke0cZfb0NpQk"
      },
      "source": [
        "#Quiz: Conditional Statements\n",
        "\n",
        "#Quiz: Guess My Number\n",
        "\n",
        "# You decide you want to play a game where you are hiding \n",
        "# a number from someone.  Store this number in a variable \n",
        "# called 'answer'.  Another user provides a number called\n",
        "# 'guess'.  By comparing guess to answer, you inform the user\n",
        "# if their guess is too high or too low.\n",
        "\n",
        "# Fill in the conditionals below to inform the user about how\n",
        "# their guess compares to the answer.\n",
        "# '''\n",
        "answer = 20\n",
        "guess = 30\n",
        "\n",
        "if guess < answer:\n",
        "    result = \"Oops!  Your guess was too low.\"\n",
        "elif guess > answer:\n",
        "    result = \"Oops!  Your guess was too high.\"\n",
        "elif guess == answer:\n",
        "    result = \"Nice!  Your guess matched the answer!\"\n",
        "\n",
        "print(result)"
      ],
      "execution_count": null,
      "outputs": []
    }
  ]
}