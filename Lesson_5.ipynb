{
  "nbformat": 4,
  "nbformat_minor": 0,
  "metadata": {
    "colab": {
      "name": "Lesson 5.ipynb",
      "provenance": [],
      "authorship_tag": "ABX9TyPYLvZRY9M3kDRknGOtNQcl",
      "include_colab_link": true
    },
    "kernelspec": {
      "name": "python3",
      "display_name": "Python 3"
    }
  },
  "cells": [
    {
      "cell_type": "markdown",
      "metadata": {
        "id": "view-in-github",
        "colab_type": "text"
      },
      "source": [
        "<a href=\"https://colab.research.google.com/github/Abinaya-J/Udacity_Introduction-to-Python-programming/blob/main/Lesson_5.ipynb\" target=\"_parent\"><img src=\"https://colab.research.google.com/assets/colab-badge.svg\" alt=\"Open In Colab\"/></a>"
      ]
    },
    {
      "cell_type": "code",
      "metadata": {
        "id": "gCRhghulH7bV"
      },
      "source": [
        "#Quiz: Defining Functions\n",
        "\n",
        "#Quiz: Population Density Function\n",
        "\n",
        "#Write a function named population_density that takes two arguments, population and land_area, and returns a population density calculated from those values. \n",
        "#I've included two test cases that you can use to verify that your function works correctly. Once you've written your function, use the Test Run button to test your code.\n",
        "\n",
        "# write your function here\n",
        "def population_density(population,land_area):\n",
        "    return population/land_area\n",
        "\n",
        "# test cases for your function\n",
        "test1 = population_density(10, 1)\n",
        "expected_result1 = 10\n",
        "print(\"expected result: {}, actual result: {}\".format(expected_result1, test1))\n",
        "\n",
        "test2 = population_density(864816, 121.4)\n",
        "expected_result2 = 7123.6902801\n",
        "print(\"expected result: {}, actual result: {}\".format(expected_result2, test2))"
      ],
      "execution_count": null,
      "outputs": []
    },
    {
      "cell_type": "code",
      "metadata": {
        "id": "7HdaGIWmIWE7"
      },
      "source": [
        "#Quiz: readable_timedelta\n",
        "\n",
        "#Write a function named readable_timedelta. The function should take one argument, an integer days, and return a string that says how many weeks and days that is\n",
        "\n",
        "# write your function here\n",
        "def readable_timedelta(days):\n",
        "    weeks = int(days/7)\n",
        "    day = days - (weeks*7)\n",
        "    time = print(\"{} week(s) and {} days(s)\".format(weeks, day))\n",
        "    return time\n",
        "\n",
        "# test your function\n",
        "print(readable_timedelta(10))"
      ],
      "execution_count": null,
      "outputs": []
    }
  ]
}